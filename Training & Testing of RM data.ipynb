{
 "cells": [
  {
   "cell_type": "code",
   "execution_count": 26,
   "id": "9bc6864c",
   "metadata": {},
   "outputs": [],
   "source": [
    "import pandas as pd\n",
    "import os"
   ]
  },
  {
   "cell_type": "code",
   "execution_count": 27,
   "id": "713291c4",
   "metadata": {},
   "outputs": [],
   "source": [
    "os.chdir(\"C:\\\\Users\\\\varun\\\\Desktop\\\\MBA III SEM\\\\Application of Software\\\\Assignment 2 Data\")"
   ]
  },
  {
   "cell_type": "markdown",
   "id": "7015bc35",
   "metadata": {},
   "source": [
    "# Rocinante 36 Model"
   ]
  },
  {
   "cell_type": "code",
   "execution_count": 28,
   "id": "f8c0cedd",
   "metadata": {},
   "outputs": [
    {
     "data": {
      "text/html": [
       "<div>\n",
       "<style scoped>\n",
       "    .dataframe tbody tr th:only-of-type {\n",
       "        vertical-align: middle;\n",
       "    }\n",
       "\n",
       "    .dataframe tbody tr th {\n",
       "        vertical-align: top;\n",
       "    }\n",
       "\n",
       "    .dataframe thead th {\n",
       "        text-align: right;\n",
       "    }\n",
       "</style>\n",
       "<table border=\"1\" class=\"dataframe\">\n",
       "  <thead>\n",
       "    <tr style=\"text-align: right;\">\n",
       "      <th></th>\n",
       "      <th>Cars</th>\n",
       "      <th>Sales \\n(in 1,000 units)</th>\n",
       "      <th>Price\\n(in lakh rupees)</th>\n",
       "      <th>Mileage\\n(Km/ltr)</th>\n",
       "      <th>Top speed (Km/hr)</th>\n",
       "    </tr>\n",
       "  </thead>\n",
       "  <tbody>\n",
       "    <tr>\n",
       "      <th>0</th>\n",
       "      <td>Rocinante 1</td>\n",
       "      <td>171.877</td>\n",
       "      <td>6.1</td>\n",
       "      <td>15.8</td>\n",
       "      <td>168.2</td>\n",
       "    </tr>\n",
       "    <tr>\n",
       "      <th>1</th>\n",
       "      <td>Rocinante 2</td>\n",
       "      <td>139.796</td>\n",
       "      <td>6.1</td>\n",
       "      <td>12.1</td>\n",
       "      <td>149.6</td>\n",
       "    </tr>\n",
       "    <tr>\n",
       "      <th>2</th>\n",
       "      <td>Rocinante 3</td>\n",
       "      <td>178.947</td>\n",
       "      <td>9.9</td>\n",
       "      <td>17.0</td>\n",
       "      <td>173.4</td>\n",
       "    </tr>\n",
       "    <tr>\n",
       "      <th>3</th>\n",
       "      <td>Rocinante 4</td>\n",
       "      <td>140.022</td>\n",
       "      <td>5.8</td>\n",
       "      <td>11.6</td>\n",
       "      <td>170.6</td>\n",
       "    </tr>\n",
       "    <tr>\n",
       "      <th>4</th>\n",
       "      <td>Rocinante 5</td>\n",
       "      <td>186.476</td>\n",
       "      <td>10.0</td>\n",
       "      <td>17.2</td>\n",
       "      <td>175.0</td>\n",
       "    </tr>\n",
       "    <tr>\n",
       "      <th>5</th>\n",
       "      <td>Rocinante 6</td>\n",
       "      <td>192.123</td>\n",
       "      <td>6.5</td>\n",
       "      <td>17.6</td>\n",
       "      <td>173.1</td>\n",
       "    </tr>\n",
       "    <tr>\n",
       "      <th>6</th>\n",
       "      <td>Rocinante 7</td>\n",
       "      <td>175.085</td>\n",
       "      <td>5.5</td>\n",
       "      <td>16.0</td>\n",
       "      <td>184.6</td>\n",
       "    </tr>\n",
       "    <tr>\n",
       "      <th>7</th>\n",
       "      <td>Rocinante 8</td>\n",
       "      <td>146.882</td>\n",
       "      <td>8.4</td>\n",
       "      <td>13.0</td>\n",
       "      <td>175.7</td>\n",
       "    </tr>\n",
       "    <tr>\n",
       "      <th>8</th>\n",
       "      <td>Rocinante 9</td>\n",
       "      <td>202.847</td>\n",
       "      <td>6.6</td>\n",
       "      <td>19.3</td>\n",
       "      <td>166.7</td>\n",
       "    </tr>\n",
       "    <tr>\n",
       "      <th>9</th>\n",
       "      <td>Rocinante 10</td>\n",
       "      <td>149.933</td>\n",
       "      <td>8.8</td>\n",
       "      <td>13.3</td>\n",
       "      <td>175.4</td>\n",
       "    </tr>\n",
       "    <tr>\n",
       "      <th>10</th>\n",
       "      <td>Rocinante 11</td>\n",
       "      <td>171.579</td>\n",
       "      <td>9.5</td>\n",
       "      <td>15.8</td>\n",
       "      <td>150.9</td>\n",
       "    </tr>\n",
       "    <tr>\n",
       "      <th>11</th>\n",
       "      <td>Rocinante 12</td>\n",
       "      <td>201.512</td>\n",
       "      <td>9.2</td>\n",
       "      <td>19.2</td>\n",
       "      <td>140.5</td>\n",
       "    </tr>\n",
       "    <tr>\n",
       "      <th>12</th>\n",
       "      <td>Rocinante 13</td>\n",
       "      <td>142.604</td>\n",
       "      <td>8.1</td>\n",
       "      <td>11.7</td>\n",
       "      <td>150.2</td>\n",
       "    </tr>\n",
       "    <tr>\n",
       "      <th>13</th>\n",
       "      <td>Rocinante 14</td>\n",
       "      <td>135.158</td>\n",
       "      <td>5.4</td>\n",
       "      <td>11.2</td>\n",
       "      <td>146.2</td>\n",
       "    </tr>\n",
       "    <tr>\n",
       "      <th>14</th>\n",
       "      <td>Rocinante 15</td>\n",
       "      <td>107.322</td>\n",
       "      <td>5.6</td>\n",
       "      <td>7.8</td>\n",
       "      <td>151.2</td>\n",
       "    </tr>\n",
       "    <tr>\n",
       "      <th>15</th>\n",
       "      <td>Rocinante 16</td>\n",
       "      <td>199.699</td>\n",
       "      <td>6.3</td>\n",
       "      <td>19.0</td>\n",
       "      <td>143.2</td>\n",
       "    </tr>\n",
       "    <tr>\n",
       "      <th>16</th>\n",
       "      <td>Rocinante 17</td>\n",
       "      <td>202.875</td>\n",
       "      <td>5.8</td>\n",
       "      <td>19.7</td>\n",
       "      <td>178.9</td>\n",
       "    </tr>\n",
       "    <tr>\n",
       "      <th>17</th>\n",
       "      <td>Rocinante 18</td>\n",
       "      <td>204.406</td>\n",
       "      <td>7.7</td>\n",
       "      <td>19.5</td>\n",
       "      <td>168.2</td>\n",
       "    </tr>\n",
       "    <tr>\n",
       "      <th>18</th>\n",
       "      <td>Rocinante 19</td>\n",
       "      <td>107.331</td>\n",
       "      <td>7.2</td>\n",
       "      <td>7.5</td>\n",
       "      <td>164.7</td>\n",
       "    </tr>\n",
       "    <tr>\n",
       "      <th>19</th>\n",
       "      <td>Rocinante 20</td>\n",
       "      <td>190.345</td>\n",
       "      <td>8.4</td>\n",
       "      <td>18.1</td>\n",
       "      <td>182.7</td>\n",
       "    </tr>\n",
       "    <tr>\n",
       "      <th>20</th>\n",
       "      <td>Rocinante 21</td>\n",
       "      <td>108.419</td>\n",
       "      <td>8.4</td>\n",
       "      <td>7.9</td>\n",
       "      <td>165.7</td>\n",
       "    </tr>\n",
       "    <tr>\n",
       "      <th>21</th>\n",
       "      <td>Rocinante 22</td>\n",
       "      <td>150.249</td>\n",
       "      <td>5.7</td>\n",
       "      <td>12.6</td>\n",
       "      <td>137.0</td>\n",
       "    </tr>\n",
       "    <tr>\n",
       "      <th>22</th>\n",
       "      <td>Rocinante 23</td>\n",
       "      <td>155.882</td>\n",
       "      <td>5.5</td>\n",
       "      <td>12.9</td>\n",
       "      <td>173.9</td>\n",
       "    </tr>\n",
       "    <tr>\n",
       "      <th>23</th>\n",
       "      <td>Rocinante 24</td>\n",
       "      <td>100.980</td>\n",
       "      <td>8.4</td>\n",
       "      <td>7.6</td>\n",
       "      <td>165.1</td>\n",
       "    </tr>\n",
       "    <tr>\n",
       "      <th>24</th>\n",
       "      <td>Rocinante 25</td>\n",
       "      <td>182.679</td>\n",
       "      <td>5.6</td>\n",
       "      <td>16.7</td>\n",
       "      <td>160.1</td>\n",
       "    </tr>\n",
       "    <tr>\n",
       "      <th>25</th>\n",
       "      <td>Rocinante 26</td>\n",
       "      <td>166.752</td>\n",
       "      <td>9.9</td>\n",
       "      <td>15.5</td>\n",
       "      <td>155.6</td>\n",
       "    </tr>\n",
       "    <tr>\n",
       "      <th>26</th>\n",
       "      <td>Rocinante 27</td>\n",
       "      <td>121.561</td>\n",
       "      <td>6.2</td>\n",
       "      <td>9.5</td>\n",
       "      <td>155.4</td>\n",
       "    </tr>\n",
       "    <tr>\n",
       "      <th>27</th>\n",
       "      <td>Rocinante 28</td>\n",
       "      <td>174.256</td>\n",
       "      <td>9.9</td>\n",
       "      <td>16.3</td>\n",
       "      <td>161.9</td>\n",
       "    </tr>\n",
       "    <tr>\n",
       "      <th>28</th>\n",
       "      <td>Rocinante 29</td>\n",
       "      <td>119.018</td>\n",
       "      <td>6.5</td>\n",
       "      <td>9.1</td>\n",
       "      <td>146.8</td>\n",
       "    </tr>\n",
       "    <tr>\n",
       "      <th>29</th>\n",
       "      <td>Rocinante 30</td>\n",
       "      <td>169.842</td>\n",
       "      <td>7.1</td>\n",
       "      <td>15.3</td>\n",
       "      <td>149.5</td>\n",
       "    </tr>\n",
       "    <tr>\n",
       "      <th>30</th>\n",
       "      <td>Rocinante 31</td>\n",
       "      <td>198.311</td>\n",
       "      <td>9.6</td>\n",
       "      <td>19.1</td>\n",
       "      <td>146.5</td>\n",
       "    </tr>\n",
       "    <tr>\n",
       "      <th>31</th>\n",
       "      <td>Rocinante 32</td>\n",
       "      <td>204.875</td>\n",
       "      <td>5.8</td>\n",
       "      <td>19.4</td>\n",
       "      <td>178.9</td>\n",
       "    </tr>\n",
       "    <tr>\n",
       "      <th>32</th>\n",
       "      <td>Rocinante 33</td>\n",
       "      <td>119.561</td>\n",
       "      <td>6.2</td>\n",
       "      <td>9.4</td>\n",
       "      <td>175.4</td>\n",
       "    </tr>\n",
       "    <tr>\n",
       "      <th>33</th>\n",
       "      <td>Rocinante 34</td>\n",
       "      <td>203.875</td>\n",
       "      <td>5.9</td>\n",
       "      <td>19.4</td>\n",
       "      <td>175.9</td>\n",
       "    </tr>\n",
       "    <tr>\n",
       "      <th>34</th>\n",
       "      <td>Rocinante 35</td>\n",
       "      <td>118.561</td>\n",
       "      <td>6.1</td>\n",
       "      <td>9.4</td>\n",
       "      <td>165.4</td>\n",
       "    </tr>\n",
       "  </tbody>\n",
       "</table>\n",
       "</div>"
      ],
      "text/plain": [
       "            Cars  Sales \\n(in 1,000 units)  Price\\n(in lakh rupees)  \\\n",
       "0    Rocinante 1                   171.877                      6.1   \n",
       "1    Rocinante 2                   139.796                      6.1   \n",
       "2    Rocinante 3                   178.947                      9.9   \n",
       "3    Rocinante 4                   140.022                      5.8   \n",
       "4    Rocinante 5                   186.476                     10.0   \n",
       "5    Rocinante 6                   192.123                      6.5   \n",
       "6    Rocinante 7                   175.085                      5.5   \n",
       "7    Rocinante 8                   146.882                      8.4   \n",
       "8    Rocinante 9                   202.847                      6.6   \n",
       "9   Rocinante 10                   149.933                      8.8   \n",
       "10  Rocinante 11                   171.579                      9.5   \n",
       "11  Rocinante 12                   201.512                      9.2   \n",
       "12  Rocinante 13                   142.604                      8.1   \n",
       "13  Rocinante 14                   135.158                      5.4   \n",
       "14  Rocinante 15                   107.322                      5.6   \n",
       "15  Rocinante 16                   199.699                      6.3   \n",
       "16  Rocinante 17                   202.875                      5.8   \n",
       "17  Rocinante 18                   204.406                      7.7   \n",
       "18  Rocinante 19                   107.331                      7.2   \n",
       "19  Rocinante 20                   190.345                      8.4   \n",
       "20  Rocinante 21                   108.419                      8.4   \n",
       "21  Rocinante 22                   150.249                      5.7   \n",
       "22  Rocinante 23                   155.882                      5.5   \n",
       "23  Rocinante 24                   100.980                      8.4   \n",
       "24  Rocinante 25                   182.679                      5.6   \n",
       "25  Rocinante 26                   166.752                      9.9   \n",
       "26  Rocinante 27                   121.561                      6.2   \n",
       "27  Rocinante 28                   174.256                      9.9   \n",
       "28  Rocinante 29                   119.018                      6.5   \n",
       "29  Rocinante 30                   169.842                      7.1   \n",
       "30  Rocinante 31                   198.311                      9.6   \n",
       "31  Rocinante 32                   204.875                      5.8   \n",
       "32  Rocinante 33                   119.561                      6.2   \n",
       "33  Rocinante 34                   203.875                      5.9   \n",
       "34  Rocinante 35                   118.561                      6.1   \n",
       "\n",
       "    Mileage\\n(Km/ltr)  Top speed (Km/hr)  \n",
       "0                15.8              168.2  \n",
       "1                12.1              149.6  \n",
       "2                17.0              173.4  \n",
       "3                11.6              170.6  \n",
       "4                17.2              175.0  \n",
       "5                17.6              173.1  \n",
       "6                16.0              184.6  \n",
       "7                13.0              175.7  \n",
       "8                19.3              166.7  \n",
       "9                13.3              175.4  \n",
       "10               15.8              150.9  \n",
       "11               19.2              140.5  \n",
       "12               11.7              150.2  \n",
       "13               11.2              146.2  \n",
       "14                7.8              151.2  \n",
       "15               19.0              143.2  \n",
       "16               19.7              178.9  \n",
       "17               19.5              168.2  \n",
       "18                7.5              164.7  \n",
       "19               18.1              182.7  \n",
       "20                7.9              165.7  \n",
       "21               12.6              137.0  \n",
       "22               12.9              173.9  \n",
       "23                7.6              165.1  \n",
       "24               16.7              160.1  \n",
       "25               15.5              155.6  \n",
       "26                9.5              155.4  \n",
       "27               16.3              161.9  \n",
       "28                9.1              146.8  \n",
       "29               15.3              149.5  \n",
       "30               19.1              146.5  \n",
       "31               19.4              178.9  \n",
       "32                9.4              175.4  \n",
       "33               19.4              175.9  \n",
       "34                9.4              165.4  "
      ]
     },
     "execution_count": 28,
     "metadata": {},
     "output_type": "execute_result"
    }
   ],
   "source": [
    "RM = pd.read_excel(\"Exhibit+2.xlsx\")\n",
    "RM"
   ]
  },
  {
   "cell_type": "code",
   "execution_count": 29,
   "id": "057f5432",
   "metadata": {},
   "outputs": [],
   "source": [
    "from sklearn.model_selection import train_test_split"
   ]
  },
  {
   "cell_type": "code",
   "execution_count": 30,
   "id": "4a24a1cb",
   "metadata": {},
   "outputs": [],
   "source": [
    "# Split the data into features(independent_variable) and target(dependent_variable)\n",
    "\n",
    "X = RM[['Price\\n(in lakh rupees)', 'Mileage\\n(Km/ltr)', 'Top speed (Km/hr)']] #independent variable\n",
    "y = RM['Sales \\n(in 1,000 units)'] #dependent variable"
   ]
  },
  {
   "cell_type": "markdown",
   "id": "f9f1fa9b",
   "metadata": {},
   "source": [
    "###  Step-1: Split the dataset into training and testing sets (70% train, 30% test)"
   ]
  },
  {
   "cell_type": "code",
   "execution_count": 31,
   "id": "02a4d8a7",
   "metadata": {},
   "outputs": [],
   "source": [
    "X_train, X_test, y_train, y_test = train_test_split(X, y, test_size=0.3, random_state=42)"
   ]
  },
  {
   "cell_type": "code",
   "execution_count": 32,
   "id": "4966fd1b",
   "metadata": {},
   "outputs": [
    {
     "data": {
      "text/plain": [
       "((35, 38), (24, 3), (11, 3))"
      ]
     },
     "execution_count": 32,
     "metadata": {},
     "output_type": "execute_result"
    }
   ],
   "source": [
    " x.shape, X_train.shape, X_test.shape"
   ]
  },
  {
   "cell_type": "code",
   "execution_count": 33,
   "id": "83f6c40d",
   "metadata": {},
   "outputs": [],
   "source": [
    "from sklearn.model_selection import train_test_split\n",
    "from sklearn.linear_model import LinearRegression\n",
    "from sklearn.metrics import mean_squared_error\n",
    "import numpy as np"
   ]
  },
  {
   "cell_type": "markdown",
   "id": "ddba5662",
   "metadata": {},
   "source": [
    "#####  Performing Training on a Linear Regression model"
   ]
  },
  {
   "cell_type": "code",
   "execution_count": 34,
   "id": "481b8e19",
   "metadata": {},
   "outputs": [
    {
     "data": {
      "text/html": [
       "<style>#sk-container-id-2 {color: black;background-color: white;}#sk-container-id-2 pre{padding: 0;}#sk-container-id-2 div.sk-toggleable {background-color: white;}#sk-container-id-2 label.sk-toggleable__label {cursor: pointer;display: block;width: 100%;margin-bottom: 0;padding: 0.3em;box-sizing: border-box;text-align: center;}#sk-container-id-2 label.sk-toggleable__label-arrow:before {content: \"▸\";float: left;margin-right: 0.25em;color: #696969;}#sk-container-id-2 label.sk-toggleable__label-arrow:hover:before {color: black;}#sk-container-id-2 div.sk-estimator:hover label.sk-toggleable__label-arrow:before {color: black;}#sk-container-id-2 div.sk-toggleable__content {max-height: 0;max-width: 0;overflow: hidden;text-align: left;background-color: #f0f8ff;}#sk-container-id-2 div.sk-toggleable__content pre {margin: 0.2em;color: black;border-radius: 0.25em;background-color: #f0f8ff;}#sk-container-id-2 input.sk-toggleable__control:checked~div.sk-toggleable__content {max-height: 200px;max-width: 100%;overflow: auto;}#sk-container-id-2 input.sk-toggleable__control:checked~label.sk-toggleable__label-arrow:before {content: \"▾\";}#sk-container-id-2 div.sk-estimator input.sk-toggleable__control:checked~label.sk-toggleable__label {background-color: #d4ebff;}#sk-container-id-2 div.sk-label input.sk-toggleable__control:checked~label.sk-toggleable__label {background-color: #d4ebff;}#sk-container-id-2 input.sk-hidden--visually {border: 0;clip: rect(1px 1px 1px 1px);clip: rect(1px, 1px, 1px, 1px);height: 1px;margin: -1px;overflow: hidden;padding: 0;position: absolute;width: 1px;}#sk-container-id-2 div.sk-estimator {font-family: monospace;background-color: #f0f8ff;border: 1px dotted black;border-radius: 0.25em;box-sizing: border-box;margin-bottom: 0.5em;}#sk-container-id-2 div.sk-estimator:hover {background-color: #d4ebff;}#sk-container-id-2 div.sk-parallel-item::after {content: \"\";width: 100%;border-bottom: 1px solid gray;flex-grow: 1;}#sk-container-id-2 div.sk-label:hover label.sk-toggleable__label {background-color: #d4ebff;}#sk-container-id-2 div.sk-serial::before {content: \"\";position: absolute;border-left: 1px solid gray;box-sizing: border-box;top: 0;bottom: 0;left: 50%;z-index: 0;}#sk-container-id-2 div.sk-serial {display: flex;flex-direction: column;align-items: center;background-color: white;padding-right: 0.2em;padding-left: 0.2em;position: relative;}#sk-container-id-2 div.sk-item {position: relative;z-index: 1;}#sk-container-id-2 div.sk-parallel {display: flex;align-items: stretch;justify-content: center;background-color: white;position: relative;}#sk-container-id-2 div.sk-item::before, #sk-container-id-2 div.sk-parallel-item::before {content: \"\";position: absolute;border-left: 1px solid gray;box-sizing: border-box;top: 0;bottom: 0;left: 50%;z-index: -1;}#sk-container-id-2 div.sk-parallel-item {display: flex;flex-direction: column;z-index: 1;position: relative;background-color: white;}#sk-container-id-2 div.sk-parallel-item:first-child::after {align-self: flex-end;width: 50%;}#sk-container-id-2 div.sk-parallel-item:last-child::after {align-self: flex-start;width: 50%;}#sk-container-id-2 div.sk-parallel-item:only-child::after {width: 0;}#sk-container-id-2 div.sk-dashed-wrapped {border: 1px dashed gray;margin: 0 0.4em 0.5em 0.4em;box-sizing: border-box;padding-bottom: 0.4em;background-color: white;}#sk-container-id-2 div.sk-label label {font-family: monospace;font-weight: bold;display: inline-block;line-height: 1.2em;}#sk-container-id-2 div.sk-label-container {text-align: center;}#sk-container-id-2 div.sk-container {/* jupyter's `normalize.less` sets `[hidden] { display: none; }` but bootstrap.min.css set `[hidden] { display: none !important; }` so we also need the `!important` here to be able to override the default hidden behavior on the sphinx rendered scikit-learn.org. See: https://github.com/scikit-learn/scikit-learn/issues/21755 */display: inline-block !important;position: relative;}#sk-container-id-2 div.sk-text-repr-fallback {display: none;}</style><div id=\"sk-container-id-2\" class=\"sk-top-container\"><div class=\"sk-text-repr-fallback\"><pre>LinearRegression()</pre><b>In a Jupyter environment, please rerun this cell to show the HTML representation or trust the notebook. <br />On GitHub, the HTML representation is unable to render, please try loading this page with nbviewer.org.</b></div><div class=\"sk-container\" hidden><div class=\"sk-item\"><div class=\"sk-estimator sk-toggleable\"><input class=\"sk-toggleable__control sk-hidden--visually\" id=\"sk-estimator-id-2\" type=\"checkbox\" checked><label for=\"sk-estimator-id-2\" class=\"sk-toggleable__label sk-toggleable__label-arrow\">LinearRegression</label><div class=\"sk-toggleable__content\"><pre>LinearRegression()</pre></div></div></div></div></div>"
      ],
      "text/plain": [
       "LinearRegression()"
      ]
     },
     "execution_count": 34,
     "metadata": {},
     "output_type": "execute_result"
    }
   ],
   "source": [
    "model = LinearRegression()\n",
    "model.fit(X_train, y_train)"
   ]
  },
  {
   "cell_type": "code",
   "execution_count": 35,
   "id": "57739518",
   "metadata": {},
   "outputs": [],
   "source": [
    "y_pred = model.predict(X_test)"
   ]
  },
  {
   "cell_type": "markdown",
   "id": "19694a79",
   "metadata": {},
   "source": [
    "### Step-2: Calculation of RMSE ( Root Mean Squared Error)"
   ]
  },
  {
   "cell_type": "code",
   "execution_count": 36,
   "id": "ff563a49",
   "metadata": {},
   "outputs": [
    {
     "name": "stdout",
     "output_type": "stream",
     "text": [
      "Root Mean Squared Error (RMSE): 2.284066588336062\n"
     ]
    }
   ],
   "source": [
    "rmse = np.sqrt(mean_squared_error(y_test, y_pred))\n",
    "print(\"Root Mean Squared Error (RMSE):\", rmse)"
   ]
  },
  {
   "cell_type": "markdown",
   "id": "60cf7e0a",
   "metadata": {},
   "source": [
    "#### An RMSE (Root Mean Squared Error) value of 2.2840 indicates the average difference between the predicted values and the actual values of the target variable.\n",
    "\n",
    "### Intrepretation: \n",
    "#### An RMSE of 2.2840 in a target variable range of 100 to 200 suggests that the model is performing quite well, with relatively small prediction errors."
   ]
  },
  {
   "cell_type": "markdown",
   "id": "8b16d81c",
   "metadata": {},
   "source": [
    "### Predicting both training and testing data"
   ]
  },
  {
   "cell_type": "code",
   "execution_count": 37,
   "id": "9c30da41",
   "metadata": {},
   "outputs": [],
   "source": [
    "y_train_pred = model.predict(X_train)\n",
    "y_test_pred = model.predict(X_test)"
   ]
  },
  {
   "cell_type": "markdown",
   "id": "78cdff4b",
   "metadata": {},
   "source": [
    "### Calculation of RMSE for both training and testing data"
   ]
  },
  {
   "cell_type": "code",
   "execution_count": 38,
   "id": "e49b0543",
   "metadata": {},
   "outputs": [],
   "source": [
    "train_rmse = np.sqrt(mean_squared_error(y_train, y_train_pred))\n",
    "test_rmse = np.sqrt(mean_squared_error(y_test, y_test_pred))"
   ]
  },
  {
   "cell_type": "code",
   "execution_count": 39,
   "id": "665e84fe",
   "metadata": {},
   "outputs": [
    {
     "name": "stdout",
     "output_type": "stream",
     "text": [
      "Training RMSE: 2.2339347338071867\n",
      "Testing RMSE: 2.284066588336062\n"
     ]
    }
   ],
   "source": [
    "print(\"Training RMSE:\", train_rmse)\n",
    "print(\"Testing RMSE:\", test_rmse)"
   ]
  },
  {
   "cell_type": "markdown",
   "id": "3ef72ed3",
   "metadata": {},
   "source": [
    "### Step-3: Determining whether the model is Overfitting or Underfitting"
   ]
  },
  {
   "cell_type": "code",
   "execution_count": 40,
   "id": "ad94ccda",
   "metadata": {},
   "outputs": [
    {
     "name": "stdout",
     "output_type": "stream",
     "text": [
      "The model may be overfitting.\n"
     ]
    }
   ],
   "source": [
    "if train_rmse < test_rmse:\n",
    "    print(\"The model may be overfitting.\")\n",
    "elif train_rmse > test_rmse:\n",
    "    print(\"The model may be underfitting.\")\n",
    "else:\n",
    "    print(\"The model is performing consistently on both training and testing data.\")"
   ]
  },
  {
   "cell_type": "markdown",
   "id": "b359cd0a",
   "metadata": {},
   "source": [
    "### Intrepretation : From the above results the Rocinante36 model may be overfitting because, the value of Train_RMSE is less than the value of Test_RMSE"
   ]
  },
  {
   "cell_type": "markdown",
   "id": "df2a268b",
   "metadata": {},
   "source": [
    "# Marengo32 Model"
   ]
  },
  {
   "cell_type": "code",
   "execution_count": 45,
   "id": "89ced66b",
   "metadata": {},
   "outputs": [
    {
     "data": {
      "text/html": [
       "<div>\n",
       "<style scoped>\n",
       "    .dataframe tbody tr th:only-of-type {\n",
       "        vertical-align: middle;\n",
       "    }\n",
       "\n",
       "    .dataframe tbody tr th {\n",
       "        vertical-align: top;\n",
       "    }\n",
       "\n",
       "    .dataframe thead th {\n",
       "        text-align: right;\n",
       "    }\n",
       "</style>\n",
       "<table border=\"1\" class=\"dataframe\">\n",
       "  <thead>\n",
       "    <tr style=\"text-align: right;\">\n",
       "      <th></th>\n",
       "      <th>Cars</th>\n",
       "      <th>Sales \\n(in 1,000 units)</th>\n",
       "      <th>Price\\n(in lakh rupees)</th>\n",
       "      <th>Mileage\\n(Km/ltr)</th>\n",
       "      <th>Top speed (Km/hr)</th>\n",
       "    </tr>\n",
       "  </thead>\n",
       "  <tbody>\n",
       "    <tr>\n",
       "      <th>0</th>\n",
       "      <td>Marengo 1</td>\n",
       "      <td>20.896</td>\n",
       "      <td>42.5</td>\n",
       "      <td>9.3</td>\n",
       "      <td>199.4</td>\n",
       "    </tr>\n",
       "    <tr>\n",
       "      <th>1</th>\n",
       "      <td>Marengo 2</td>\n",
       "      <td>31.048</td>\n",
       "      <td>36.0</td>\n",
       "      <td>9.7</td>\n",
       "      <td>235.2</td>\n",
       "    </tr>\n",
       "    <tr>\n",
       "      <th>2</th>\n",
       "      <td>Marengo 3</td>\n",
       "      <td>29.904</td>\n",
       "      <td>54.7</td>\n",
       "      <td>16.6</td>\n",
       "      <td>240.8</td>\n",
       "    </tr>\n",
       "    <tr>\n",
       "      <th>3</th>\n",
       "      <td>Marengo 4</td>\n",
       "      <td>28.792</td>\n",
       "      <td>42.7</td>\n",
       "      <td>11.7</td>\n",
       "      <td>232.5</td>\n",
       "    </tr>\n",
       "    <tr>\n",
       "      <th>4</th>\n",
       "      <td>Marengo 5</td>\n",
       "      <td>16.776</td>\n",
       "      <td>44.9</td>\n",
       "      <td>13.7</td>\n",
       "      <td>188.8</td>\n",
       "    </tr>\n",
       "    <tr>\n",
       "      <th>5</th>\n",
       "      <td>Marengo 6</td>\n",
       "      <td>18.928</td>\n",
       "      <td>35.5</td>\n",
       "      <td>9.6</td>\n",
       "      <td>184.2</td>\n",
       "    </tr>\n",
       "    <tr>\n",
       "      <th>6</th>\n",
       "      <td>Marengo 7</td>\n",
       "      <td>22.776</td>\n",
       "      <td>51.3</td>\n",
       "      <td>13.7</td>\n",
       "      <td>207.7</td>\n",
       "    </tr>\n",
       "    <tr>\n",
       "      <th>7</th>\n",
       "      <td>Marengo 8</td>\n",
       "      <td>36.824</td>\n",
       "      <td>30.4</td>\n",
       "      <td>12.6</td>\n",
       "      <td>249.5</td>\n",
       "    </tr>\n",
       "    <tr>\n",
       "      <th>8</th>\n",
       "      <td>Marengo 9</td>\n",
       "      <td>22.216</td>\n",
       "      <td>38.4</td>\n",
       "      <td>16.2</td>\n",
       "      <td>175.8</td>\n",
       "    </tr>\n",
       "    <tr>\n",
       "      <th>9</th>\n",
       "      <td>Marengo 10</td>\n",
       "      <td>35.456</td>\n",
       "      <td>32.2</td>\n",
       "      <td>9.6</td>\n",
       "      <td>245.6</td>\n",
       "    </tr>\n",
       "    <tr>\n",
       "      <th>10</th>\n",
       "      <td>Marengo 11</td>\n",
       "      <td>28.576</td>\n",
       "      <td>59.4</td>\n",
       "      <td>11.3</td>\n",
       "      <td>223.3</td>\n",
       "    </tr>\n",
       "    <tr>\n",
       "      <th>11</th>\n",
       "      <td>Marengo 12</td>\n",
       "      <td>33.648</td>\n",
       "      <td>50.8</td>\n",
       "      <td>13.6</td>\n",
       "      <td>240.0</td>\n",
       "    </tr>\n",
       "    <tr>\n",
       "      <th>12</th>\n",
       "      <td>Marengo 13</td>\n",
       "      <td>33.440</td>\n",
       "      <td>57.5</td>\n",
       "      <td>13.5</td>\n",
       "      <td>250.0</td>\n",
       "    </tr>\n",
       "    <tr>\n",
       "      <th>13</th>\n",
       "      <td>Marengo 14</td>\n",
       "      <td>34.912</td>\n",
       "      <td>44.6</td>\n",
       "      <td>11.1</td>\n",
       "      <td>247.4</td>\n",
       "    </tr>\n",
       "    <tr>\n",
       "      <th>14</th>\n",
       "      <td>Marengo 15</td>\n",
       "      <td>24.016</td>\n",
       "      <td>34.6</td>\n",
       "      <td>14.1</td>\n",
       "      <td>192.0</td>\n",
       "    </tr>\n",
       "    <tr>\n",
       "      <th>15</th>\n",
       "      <td>Marengo 16</td>\n",
       "      <td>20.992</td>\n",
       "      <td>56.4</td>\n",
       "      <td>13.4</td>\n",
       "      <td>201.2</td>\n",
       "    </tr>\n",
       "    <tr>\n",
       "      <th>16</th>\n",
       "      <td>Marengo 17</td>\n",
       "      <td>21.696</td>\n",
       "      <td>41.4</td>\n",
       "      <td>12.8</td>\n",
       "      <td>193.3</td>\n",
       "    </tr>\n",
       "    <tr>\n",
       "      <th>17</th>\n",
       "      <td>Marengo 18</td>\n",
       "      <td>17.832</td>\n",
       "      <td>53.7</td>\n",
       "      <td>16.0</td>\n",
       "      <td>202.0</td>\n",
       "    </tr>\n",
       "    <tr>\n",
       "      <th>18</th>\n",
       "      <td>Marengo 19</td>\n",
       "      <td>25.624</td>\n",
       "      <td>44.8</td>\n",
       "      <td>12.7</td>\n",
       "      <td>208.9</td>\n",
       "    </tr>\n",
       "    <tr>\n",
       "      <th>19</th>\n",
       "      <td>Marengo 20</td>\n",
       "      <td>21.920</td>\n",
       "      <td>32.4</td>\n",
       "      <td>13.6</td>\n",
       "      <td>176.9</td>\n",
       "    </tr>\n",
       "    <tr>\n",
       "      <th>20</th>\n",
       "      <td>Marengo 21</td>\n",
       "      <td>24.792</td>\n",
       "      <td>40.9</td>\n",
       "      <td>11.6</td>\n",
       "      <td>218.2</td>\n",
       "    </tr>\n",
       "    <tr>\n",
       "      <th>21</th>\n",
       "      <td>Marengo 22</td>\n",
       "      <td>22.256</td>\n",
       "      <td>44.1</td>\n",
       "      <td>11.4</td>\n",
       "      <td>190.0</td>\n",
       "    </tr>\n",
       "    <tr>\n",
       "      <th>22</th>\n",
       "      <td>Marengo 23</td>\n",
       "      <td>15.488</td>\n",
       "      <td>46.6</td>\n",
       "      <td>16.3</td>\n",
       "      <td>176.8</td>\n",
       "    </tr>\n",
       "    <tr>\n",
       "      <th>23</th>\n",
       "      <td>Marengo 24</td>\n",
       "      <td>21.640</td>\n",
       "      <td>31.4</td>\n",
       "      <td>14.5</td>\n",
       "      <td>178.9</td>\n",
       "    </tr>\n",
       "    <tr>\n",
       "      <th>24</th>\n",
       "      <td>Marengo 25</td>\n",
       "      <td>23.264</td>\n",
       "      <td>54.7</td>\n",
       "      <td>14.3</td>\n",
       "      <td>192.3</td>\n",
       "    </tr>\n",
       "    <tr>\n",
       "      <th>25</th>\n",
       "      <td>Marengo 26</td>\n",
       "      <td>19.328</td>\n",
       "      <td>37.9</td>\n",
       "      <td>9.4</td>\n",
       "      <td>184.1</td>\n",
       "    </tr>\n",
       "    <tr>\n",
       "      <th>26</th>\n",
       "      <td>Marengo 27</td>\n",
       "      <td>27.216</td>\n",
       "      <td>52.9</td>\n",
       "      <td>15.3</td>\n",
       "      <td>240.3</td>\n",
       "    </tr>\n",
       "    <tr>\n",
       "      <th>27</th>\n",
       "      <td>Marengo 28</td>\n",
       "      <td>23.096</td>\n",
       "      <td>42.7</td>\n",
       "      <td>15.0</td>\n",
       "      <td>192.1</td>\n",
       "    </tr>\n",
       "    <tr>\n",
       "      <th>28</th>\n",
       "      <td>Marengo 29</td>\n",
       "      <td>17.824</td>\n",
       "      <td>54.9</td>\n",
       "      <td>13.5</td>\n",
       "      <td>199.0</td>\n",
       "    </tr>\n",
       "    <tr>\n",
       "      <th>29</th>\n",
       "      <td>Marengo 30</td>\n",
       "      <td>19.144</td>\n",
       "      <td>44.0</td>\n",
       "      <td>11.8</td>\n",
       "      <td>181.1</td>\n",
       "    </tr>\n",
       "    <tr>\n",
       "      <th>30</th>\n",
       "      <td>Marengo 31</td>\n",
       "      <td>21.600</td>\n",
       "      <td>42.2</td>\n",
       "      <td>9.3</td>\n",
       "      <td>181.2</td>\n",
       "    </tr>\n",
       "  </tbody>\n",
       "</table>\n",
       "</div>"
      ],
      "text/plain": [
       "          Cars  Sales \\n(in 1,000 units)  Price\\n(in lakh rupees)  \\\n",
       "0    Marengo 1                    20.896                     42.5   \n",
       "1    Marengo 2                    31.048                     36.0   \n",
       "2    Marengo 3                    29.904                     54.7   \n",
       "3    Marengo 4                    28.792                     42.7   \n",
       "4    Marengo 5                    16.776                     44.9   \n",
       "5    Marengo 6                    18.928                     35.5   \n",
       "6    Marengo 7                    22.776                     51.3   \n",
       "7    Marengo 8                    36.824                     30.4   \n",
       "8    Marengo 9                    22.216                     38.4   \n",
       "9   Marengo 10                    35.456                     32.2   \n",
       "10  Marengo 11                    28.576                     59.4   \n",
       "11  Marengo 12                    33.648                     50.8   \n",
       "12  Marengo 13                    33.440                     57.5   \n",
       "13  Marengo 14                    34.912                     44.6   \n",
       "14  Marengo 15                    24.016                     34.6   \n",
       "15  Marengo 16                    20.992                     56.4   \n",
       "16  Marengo 17                    21.696                     41.4   \n",
       "17  Marengo 18                    17.832                     53.7   \n",
       "18  Marengo 19                    25.624                     44.8   \n",
       "19  Marengo 20                    21.920                     32.4   \n",
       "20  Marengo 21                    24.792                     40.9   \n",
       "21  Marengo 22                    22.256                     44.1   \n",
       "22  Marengo 23                    15.488                     46.6   \n",
       "23  Marengo 24                    21.640                     31.4   \n",
       "24  Marengo 25                    23.264                     54.7   \n",
       "25  Marengo 26                    19.328                     37.9   \n",
       "26  Marengo 27                    27.216                     52.9   \n",
       "27  Marengo 28                    23.096                     42.7   \n",
       "28  Marengo 29                    17.824                     54.9   \n",
       "29  Marengo 30                    19.144                     44.0   \n",
       "30  Marengo 31                    21.600                     42.2   \n",
       "\n",
       "    Mileage\\n(Km/ltr)  Top speed (Km/hr)  \n",
       "0                 9.3              199.4  \n",
       "1                 9.7              235.2  \n",
       "2                16.6              240.8  \n",
       "3                11.7              232.5  \n",
       "4                13.7              188.8  \n",
       "5                 9.6              184.2  \n",
       "6                13.7              207.7  \n",
       "7                12.6              249.5  \n",
       "8                16.2              175.8  \n",
       "9                 9.6              245.6  \n",
       "10               11.3              223.3  \n",
       "11               13.6              240.0  \n",
       "12               13.5              250.0  \n",
       "13               11.1              247.4  \n",
       "14               14.1              192.0  \n",
       "15               13.4              201.2  \n",
       "16               12.8              193.3  \n",
       "17               16.0              202.0  \n",
       "18               12.7              208.9  \n",
       "19               13.6              176.9  \n",
       "20               11.6              218.2  \n",
       "21               11.4              190.0  \n",
       "22               16.3              176.8  \n",
       "23               14.5              178.9  \n",
       "24               14.3              192.3  \n",
       "25                9.4              184.1  \n",
       "26               15.3              240.3  \n",
       "27               15.0              192.1  \n",
       "28               13.5              199.0  \n",
       "29               11.8              181.1  \n",
       "30                9.3              181.2  "
      ]
     },
     "execution_count": 45,
     "metadata": {},
     "output_type": "execute_result"
    }
   ],
   "source": [
    "M_data = pd.read_excel(\"Exhibit+2.xlsx\", sheet_name=\"Marengo Models\")\n",
    "M_data"
   ]
  },
  {
   "cell_type": "code",
   "execution_count": 46,
   "id": "68fa0cc5",
   "metadata": {},
   "outputs": [],
   "source": [
    "# Split the data into features(independent_variable) and target(dependent_variable)\n",
    "\n",
    "X = M_data[['Price\\n(in lakh rupees)', 'Mileage\\n(Km/ltr)', 'Top speed (Km/hr)']] #independent variable\n",
    "y = M_data['Sales \\n(in 1,000 units)'] #dependent variable"
   ]
  },
  {
   "cell_type": "markdown",
   "id": "a43ef323",
   "metadata": {},
   "source": [
    "### Step-1: Split the dataset into training and testing sets (70% train, 30% test)"
   ]
  },
  {
   "cell_type": "code",
   "execution_count": 47,
   "id": "70300406",
   "metadata": {},
   "outputs": [],
   "source": [
    "X_train, X_test, y_train, y_test = train_test_split(X, y, test_size=0.3, random_state=42)"
   ]
  },
  {
   "cell_type": "code",
   "execution_count": 48,
   "id": "6cc60774",
   "metadata": {},
   "outputs": [
    {
     "data": {
      "text/plain": [
       "((35, 38), (21, 3), (10, 3))"
      ]
     },
     "execution_count": 48,
     "metadata": {},
     "output_type": "execute_result"
    }
   ],
   "source": [
    " x.shape, X_train.shape, X_test.shape"
   ]
  },
  {
   "cell_type": "markdown",
   "id": "8c82f70c",
   "metadata": {},
   "source": [
    "#### Performing Training on a Linear Regression model"
   ]
  },
  {
   "cell_type": "code",
   "execution_count": 49,
   "id": "6c38fa22",
   "metadata": {},
   "outputs": [
    {
     "data": {
      "text/html": [
       "<style>#sk-container-id-3 {color: black;background-color: white;}#sk-container-id-3 pre{padding: 0;}#sk-container-id-3 div.sk-toggleable {background-color: white;}#sk-container-id-3 label.sk-toggleable__label {cursor: pointer;display: block;width: 100%;margin-bottom: 0;padding: 0.3em;box-sizing: border-box;text-align: center;}#sk-container-id-3 label.sk-toggleable__label-arrow:before {content: \"▸\";float: left;margin-right: 0.25em;color: #696969;}#sk-container-id-3 label.sk-toggleable__label-arrow:hover:before {color: black;}#sk-container-id-3 div.sk-estimator:hover label.sk-toggleable__label-arrow:before {color: black;}#sk-container-id-3 div.sk-toggleable__content {max-height: 0;max-width: 0;overflow: hidden;text-align: left;background-color: #f0f8ff;}#sk-container-id-3 div.sk-toggleable__content pre {margin: 0.2em;color: black;border-radius: 0.25em;background-color: #f0f8ff;}#sk-container-id-3 input.sk-toggleable__control:checked~div.sk-toggleable__content {max-height: 200px;max-width: 100%;overflow: auto;}#sk-container-id-3 input.sk-toggleable__control:checked~label.sk-toggleable__label-arrow:before {content: \"▾\";}#sk-container-id-3 div.sk-estimator input.sk-toggleable__control:checked~label.sk-toggleable__label {background-color: #d4ebff;}#sk-container-id-3 div.sk-label input.sk-toggleable__control:checked~label.sk-toggleable__label {background-color: #d4ebff;}#sk-container-id-3 input.sk-hidden--visually {border: 0;clip: rect(1px 1px 1px 1px);clip: rect(1px, 1px, 1px, 1px);height: 1px;margin: -1px;overflow: hidden;padding: 0;position: absolute;width: 1px;}#sk-container-id-3 div.sk-estimator {font-family: monospace;background-color: #f0f8ff;border: 1px dotted black;border-radius: 0.25em;box-sizing: border-box;margin-bottom: 0.5em;}#sk-container-id-3 div.sk-estimator:hover {background-color: #d4ebff;}#sk-container-id-3 div.sk-parallel-item::after {content: \"\";width: 100%;border-bottom: 1px solid gray;flex-grow: 1;}#sk-container-id-3 div.sk-label:hover label.sk-toggleable__label {background-color: #d4ebff;}#sk-container-id-3 div.sk-serial::before {content: \"\";position: absolute;border-left: 1px solid gray;box-sizing: border-box;top: 0;bottom: 0;left: 50%;z-index: 0;}#sk-container-id-3 div.sk-serial {display: flex;flex-direction: column;align-items: center;background-color: white;padding-right: 0.2em;padding-left: 0.2em;position: relative;}#sk-container-id-3 div.sk-item {position: relative;z-index: 1;}#sk-container-id-3 div.sk-parallel {display: flex;align-items: stretch;justify-content: center;background-color: white;position: relative;}#sk-container-id-3 div.sk-item::before, #sk-container-id-3 div.sk-parallel-item::before {content: \"\";position: absolute;border-left: 1px solid gray;box-sizing: border-box;top: 0;bottom: 0;left: 50%;z-index: -1;}#sk-container-id-3 div.sk-parallel-item {display: flex;flex-direction: column;z-index: 1;position: relative;background-color: white;}#sk-container-id-3 div.sk-parallel-item:first-child::after {align-self: flex-end;width: 50%;}#sk-container-id-3 div.sk-parallel-item:last-child::after {align-self: flex-start;width: 50%;}#sk-container-id-3 div.sk-parallel-item:only-child::after {width: 0;}#sk-container-id-3 div.sk-dashed-wrapped {border: 1px dashed gray;margin: 0 0.4em 0.5em 0.4em;box-sizing: border-box;padding-bottom: 0.4em;background-color: white;}#sk-container-id-3 div.sk-label label {font-family: monospace;font-weight: bold;display: inline-block;line-height: 1.2em;}#sk-container-id-3 div.sk-label-container {text-align: center;}#sk-container-id-3 div.sk-container {/* jupyter's `normalize.less` sets `[hidden] { display: none; }` but bootstrap.min.css set `[hidden] { display: none !important; }` so we also need the `!important` here to be able to override the default hidden behavior on the sphinx rendered scikit-learn.org. See: https://github.com/scikit-learn/scikit-learn/issues/21755 */display: inline-block !important;position: relative;}#sk-container-id-3 div.sk-text-repr-fallback {display: none;}</style><div id=\"sk-container-id-3\" class=\"sk-top-container\"><div class=\"sk-text-repr-fallback\"><pre>LinearRegression()</pre><b>In a Jupyter environment, please rerun this cell to show the HTML representation or trust the notebook. <br />On GitHub, the HTML representation is unable to render, please try loading this page with nbviewer.org.</b></div><div class=\"sk-container\" hidden><div class=\"sk-item\"><div class=\"sk-estimator sk-toggleable\"><input class=\"sk-toggleable__control sk-hidden--visually\" id=\"sk-estimator-id-3\" type=\"checkbox\" checked><label for=\"sk-estimator-id-3\" class=\"sk-toggleable__label sk-toggleable__label-arrow\">LinearRegression</label><div class=\"sk-toggleable__content\"><pre>LinearRegression()</pre></div></div></div></div></div>"
      ],
      "text/plain": [
       "LinearRegression()"
      ]
     },
     "execution_count": 49,
     "metadata": {},
     "output_type": "execute_result"
    }
   ],
   "source": [
    "model = LinearRegression()\n",
    "model.fit(X_train, y_train)"
   ]
  },
  {
   "cell_type": "code",
   "execution_count": 50,
   "id": "6393f486",
   "metadata": {},
   "outputs": [],
   "source": [
    "y_pred = model.predict(X_test)"
   ]
  },
  {
   "cell_type": "markdown",
   "id": "58b4fe80",
   "metadata": {},
   "source": [
    "### Step-2: Calculation of RMSE ( Root Mean Squared Error)"
   ]
  },
  {
   "cell_type": "code",
   "execution_count": 51,
   "id": "a3b409b1",
   "metadata": {},
   "outputs": [
    {
     "name": "stdout",
     "output_type": "stream",
     "text": [
      "Root Mean Squared Error (RMSE): 2.73229213104685\n"
     ]
    }
   ],
   "source": [
    "rmse = np.sqrt(mean_squared_error(y_test, y_pred))\n",
    "print(\"Root Mean Squared Error (RMSE):\", rmse)"
   ]
  },
  {
   "cell_type": "markdown",
   "id": "3b6e17a3",
   "metadata": {},
   "source": [
    "#### An RMSE (Root Mean Squared Error) value of 2.7322 indicates the average difference between the predicted values and the actual values of the target variable.\n",
    "\n",
    "### Intrepretation:\n",
    "#### An RMSE of 2.7322 in a target variable range of 15 to 36 suggests that your model is average prediction error is moderate."
   ]
  },
  {
   "cell_type": "markdown",
   "id": "4014ac13",
   "metadata": {},
   "source": [
    "### Predicting both training and testing data"
   ]
  },
  {
   "cell_type": "code",
   "execution_count": 52,
   "id": "96c4d0dc",
   "metadata": {},
   "outputs": [],
   "source": [
    "y_train_pred = model.predict(X_train)\n",
    "y_test_pred = model.predict(X_test)"
   ]
  },
  {
   "cell_type": "markdown",
   "id": "a86baea6",
   "metadata": {},
   "source": [
    "### Calculation of RMSE for both training and testing data"
   ]
  },
  {
   "cell_type": "code",
   "execution_count": 53,
   "id": "369a8c5a",
   "metadata": {},
   "outputs": [
    {
     "name": "stdout",
     "output_type": "stream",
     "text": [
      "Training RMSE: 1.994192034110844\n",
      "Testing RMSE: 2.73229213104685\n"
     ]
    }
   ],
   "source": [
    "train_rmse = np.sqrt(mean_squared_error(y_train, y_train_pred))\n",
    "test_rmse = np.sqrt(mean_squared_error(y_test, y_test_pred))\n",
    "print(\"Training RMSE:\", train_rmse)\n",
    "print(\"Testing RMSE:\", test_rmse)"
   ]
  },
  {
   "cell_type": "markdown",
   "id": "57195792",
   "metadata": {},
   "source": [
    "### Step-3: Determining whether the model is Overfitting or Underfitting\n"
   ]
  },
  {
   "cell_type": "code",
   "execution_count": 54,
   "id": "09ac7b2b",
   "metadata": {},
   "outputs": [
    {
     "name": "stdout",
     "output_type": "stream",
     "text": [
      "The model may be overfitting.\n"
     ]
    }
   ],
   "source": [
    "if train_rmse < test_rmse:\n",
    "    print(\"The model may be overfitting.\")\n",
    "elif train_rmse > test_rmse:\n",
    "    print(\"The model may be underfitting.\")\n",
    "else:\n",
    "    print(\"The model is performing consistently on both training and testing data.\")"
   ]
  },
  {
   "cell_type": "markdown",
   "id": "f13612fb",
   "metadata": {},
   "source": [
    "### Intrepretation : From the above results the Marengo32 model may be overfitting because, the value of Train_RMSE is less than the value of Test_RMSE"
   ]
  },
  {
   "cell_type": "code",
   "execution_count": null,
   "id": "2c6dedab",
   "metadata": {},
   "outputs": [],
   "source": []
  }
 ],
 "metadata": {
  "kernelspec": {
   "display_name": "Python 3 (ipykernel)",
   "language": "python",
   "name": "python3"
  },
  "language_info": {
   "codemirror_mode": {
    "name": "ipython",
    "version": 3
   },
   "file_extension": ".py",
   "mimetype": "text/x-python",
   "name": "python",
   "nbconvert_exporter": "python",
   "pygments_lexer": "ipython3",
   "version": "3.10.9"
  }
 },
 "nbformat": 4,
 "nbformat_minor": 5
}
